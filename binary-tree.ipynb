{
 "cells": [
  {
   "cell_type": "markdown",
   "metadata": {
    "collapsed": true,
    "pycharm": {
     "name": "#%% md\n"
    }
   },
   "source": [
    "# Binary Treee\n",
    "- Piotr Tylczyński\n",
    "- Mateusz Kępa"
   ]
  },
  {
   "cell_type": "markdown",
   "source": [
    "### Import data\n",
    "We use Titanic data provided by PUT"
   ],
   "metadata": {
    "collapsed": false,
    "pycharm": {
     "name": "#%% md\n"
    }
   }
  },
  {
   "cell_type": "code",
   "execution_count": 16,
   "outputs": [],
   "source": [
    "import copy\n",
    "import math\n",
    "\n",
    "import pandas as pd\n",
    "\n",
    "# data_path = 'titanic-homework.csv'\n",
    "data_path = 'titanic-homework.csv'\n",
    "data = pd.read_csv(\n",
    "    data_path,\n",
    ")"
   ],
   "metadata": {
    "collapsed": false,
    "pycharm": {
     "name": "#%%\n"
    }
   }
  },
  {
   "cell_type": "markdown",
   "source": [
    "### Show data"
   ],
   "metadata": {
    "collapsed": false,
    "pycharm": {
     "name": "#%% md\n"
    }
   }
  },
  {
   "cell_type": "code",
   "execution_count": 17,
   "outputs": [
    {
     "name": "stdout",
     "output_type": "stream",
     "text": [
      "    PassengerId  Pclass                                               Name  \\\n",
      "0             1       3                            Braund, Mr. Owen Harris   \n",
      "1             2       1  Cumings, Mrs. John Bradley (Florence Briggs Th...   \n",
      "2             3       3                             Heikkinen, Miss. Laina   \n",
      "3             4       1       Futrelle, Mrs. Jacques Heath (Lily May Peel)   \n",
      "4             5       3                           Allen, Mr. William Henry   \n",
      "..          ...     ...                                                ...   \n",
      "95           96       3                        Shorney, Mr. Charles Joseph   \n",
      "96           97       1                          Goldschmidt, Mr. George B   \n",
      "97           98       1                    Greenfield, Mr. William Bertram   \n",
      "98           99       2               Doling, Mrs. John T (Ada Julia Bone)   \n",
      "99          100       2                                  Kantor, Mr. Sinai   \n",
      "\n",
      "       Sex  Age  SibSp  Parch  Survived  \n",
      "0     male   22      1      0         0  \n",
      "1   female   38      1      0         1  \n",
      "2   female   26      0      0         1  \n",
      "3   female   35      1      0         1  \n",
      "4     male   35      0      0         0  \n",
      "..     ...  ...    ...    ...       ...  \n",
      "95    male   44      0      0         0  \n",
      "96    male   71      0      0         0  \n",
      "97    male   23      0      1         1  \n",
      "98  female   34      0      1         1  \n",
      "99    male   34      1      0         0  \n",
      "\n",
      "[100 rows x 8 columns]\n"
     ]
    }
   ],
   "source": [
    "print(data)"
   ],
   "metadata": {
    "collapsed": false,
    "pycharm": {
     "name": "#%%\n"
    }
   }
  },
  {
   "cell_type": "markdown",
   "source": [
    "### Pre-purify\n",
    "Some vales bring us no information as they are more label like one.\n",
    "This can be seen in *Name* column, which we will remove for brevity of further code.\n",
    "\n",
    "Also we discretize here age value"
   ],
   "metadata": {
    "collapsed": false,
    "pycharm": {
     "name": "#%% md\n"
    }
   }
  },
  {
   "cell_type": "code",
   "execution_count": 18,
   "outputs": [],
   "source": [
    "data = data.drop(columns='Name')"
   ],
   "metadata": {
    "collapsed": false,
    "pycharm": {
     "name": "#%%\n"
    }
   }
  },
  {
   "cell_type": "markdown",
   "source": [
    "### Discretize\n",
    "Simple way with fixed intervals"
   ],
   "metadata": {
    "collapsed": false,
    "pycharm": {
     "name": "#%% md\n"
    }
   }
  },
  {
   "cell_type": "code",
   "execution_count": 4,
   "outputs": [],
   "source": [
    "for idx, row in data.iterrows():\n",
    "    if data.loc[idx, 'Age'] <= 20:\n",
    "        data.loc[idx, 'Age'] = 'young'\n",
    "    elif data.loc[idx, 'Age'] > 20 and data.loc[idx, 'Age'] <= 40:\n",
    "        data.loc[idx, 'Age'] = 'middle'\n",
    "    elif data.loc[idx, 'Age'] > 40:\n",
    "        data.loc[idx, 'Age'] = 'old'"
   ],
   "metadata": {
    "collapsed": false,
    "pycharm": {
     "name": "#%%\n"
    }
   }
  },
  {
   "cell_type": "markdown",
   "source": [
    "### General entropy function\n",
    "$$ En(X) = \\sum_{a = 1}^{i} P(x_i) \\log{P(x_i)} $$"
   ],
   "metadata": {
    "collapsed": false,
    "pycharm": {
     "name": "#%% md\n"
    }
   }
  },
  {
   "cell_type": "code",
   "execution_count": 5,
   "outputs": [],
   "source": [
    "import math\n",
    "def entropy(data: pd.DataFrame) -> float:\n",
    "    decision_classes = data.groupby('Survived').count()\n",
    "    e = 0\n",
    "    for c in decision_classes.iloc[:,0]:\n",
    "        p = c / len(data)\n",
    "        e += (-1) * math.log2(p) * p\n",
    "    return e"
   ],
   "metadata": {
    "collapsed": false,
    "pycharm": {
     "name": "#%%\n"
    }
   }
  },
  {
   "cell_type": "markdown",
   "source": [
    "### Conditional entropy\n",
    "\n",
    "$$ En(X|A) = \\sum_{a=1}^{i} \\frac{|x_i|}{|X|}En(x_i) $$"
   ],
   "metadata": {
    "collapsed": false,
    "pycharm": {
     "name": "#%% md\n"
    }
   }
  },
  {
   "cell_type": "code",
   "execution_count": 6,
   "outputs": [],
   "source": [
    "def conditional_entropy(data: pd.DataFrame, col_name: str):\n",
    "    data_reduced: pd.DataFrame = data[[col_name, 'Survived']]\n",
    "    var_classes = data_reduced.groupby(col_name).count()\n",
    "    e = 0\n",
    "    for idx, row in var_classes.iterrows():\n",
    "        p = row['Survived'] / len(data)\n",
    "        data_filtered = data_reduced[data_reduced.loc[:, col_name] == idx]\n",
    "        e += p * entropy(data_filtered)\n",
    "    return e"
   ],
   "metadata": {
    "collapsed": false,
    "pycharm": {
     "name": "#%%\n"
    }
   }
  },
  {
   "cell_type": "markdown",
   "source": [
    "### Gain function after choosing variable A\n",
    "\n",
    "$$ gain(S,A) = En(S) - En(S | A) $$"
   ],
   "metadata": {
    "collapsed": false,
    "pycharm": {
     "name": "#%% md\n"
    }
   }
  },
  {
   "cell_type": "code",
   "execution_count": 7,
   "outputs": [],
   "source": [
    "def gain(data: pd.DataFrame, column_name: str):\n",
    "    e_before = entropy(data)\n",
    "    e_after = conditional_entropy(data, column_name)\n",
    "    return e_before - e_after"
   ],
   "metadata": {
    "collapsed": false,
    "pycharm": {
     "name": "#%%\n"
    }
   }
  },
  {
   "cell_type": "markdown",
   "source": [
    "### Intrinsic function\n",
    "\n",
    "$$ II(S, A) = - \\sum_{i=1}^{n}\\frac{|S_i|}{|S|} \\log_2{\\frac{|Si|}{|S|}} $$"
   ],
   "metadata": {
    "collapsed": false,
    "pycharm": {
     "name": "#%% md\n"
    }
   }
  },
  {
   "cell_type": "code",
   "execution_count": 8,
   "outputs": [],
   "source": [
    "def intrinsicInfo(data: pd.DataFrame, column_name: str):\n",
    "    data_reduced = data[[column_name, 'Survived']]\n",
    "    var_classes = data_reduced.groupby(column_name).count()\n",
    "    e = 0\n",
    "    for idx, row in var_classes.iterrows():\n",
    "        p = row.iloc[0] / len(data_reduced)\n",
    "        e += (-1) * p * math.log2(p)\n",
    "    return e"
   ],
   "metadata": {
    "collapsed": false,
    "pycharm": {
     "name": "#%%\n"
    }
   }
  },
  {
   "cell_type": "markdown",
   "source": [
    "### Gain Ratio\n",
    "\n",
    "$$ GainRatio(S, A) = \\frac{Gain(S,a)}{IntrinsicInfo(S,A)} $$"
   ],
   "metadata": {
    "collapsed": false,
    "pycharm": {
     "name": "#%% md\n"
    }
   }
  },
  {
   "cell_type": "code",
   "execution_count": 9,
   "outputs": [],
   "source": [
    "def gainRatio(data: pd.DataFrame, column_name: str):\n",
    "    return gain(data, column_name) / intrinsicInfo(data, column_name)"
   ],
   "metadata": {
    "collapsed": false,
    "pycharm": {
     "name": "#%%\n"
    }
   }
  },
  {
   "cell_type": "markdown",
   "source": [
    "### Create tree"
   ],
   "metadata": {
    "collapsed": false,
    "pycharm": {
     "name": "#%% md\n"
    }
   }
  },
  {
   "cell_type": "code",
   "execution_count": 30,
   "outputs": [
    {
     "name": "stderr",
     "output_type": "stream",
     "text": [
      "/tmp/ipykernel_22320/804759315.py:2: RuntimeWarning: invalid value encountered in double_scalars\n",
      "  return gain(data, column_name) / intrinsicInfo(data, column_name)\n"
     ]
    }
   ],
   "source": [
    "import copy\n",
    "\n",
    "def create_tree(data: pd.DataFrame, available_attr: []):\n",
    "    if entropy(data) == 0:\n",
    "        return list(data.Survived)[0]\n",
    "    best_attr = available_attr[0]\n",
    "    best_gain = 0\n",
    "    local_tree = {}\n",
    "    for attr in available_attr:\n",
    "        if attr == 'PassengerId':\n",
    "            continue\n",
    "        if attr == 'Age':\n",
    "            gain = age_spliter(data)[0]\n",
    "        else:\n",
    "            gain = gainRatio(data, attr)\n",
    "        if gain > best_gain:\n",
    "            best_gain = gain\n",
    "            best_attr = attr\n",
    "    if best_attr == 'Age':\n",
    "        data.sort_values('Age', inplace=True)\n",
    "        splitter = age_spliter(data)[1]\n",
    "        available_attr.remove(best_attr)\n",
    "        sub_tree1 = create_tree(\n",
    "                data[:splitter],\n",
    "                copy.deepcopy(available_attr)\n",
    "            )\n",
    "        local_tree['(age < ' + str(splitter) + ')'] = sub_tree1\n",
    "        sub_tree2 = create_tree(\n",
    "                data[splitter:],\n",
    "                copy.deepcopy(available_attr)\n",
    "            )\n",
    "        local_tree['(age >= ' + str(splitter) + ')'] = sub_tree2\n",
    "    else:\n",
    "        data_reduced = data[[best_attr, 'Survived']]\n",
    "        var_classes = data_reduced.groupby(best_attr).count()\n",
    "        available_attr.remove(best_attr)\n",
    "        for aClass, _ in var_classes.iterrows():\n",
    "            sub_tree = create_tree(\n",
    "                data[data.loc[:, best_attr] == aClass],\n",
    "                copy.deepcopy(available_attr)\n",
    "            )\n",
    "            local_tree[str(aClass) + '(' + best_attr + ')'] = sub_tree\n",
    "    return local_tree\n",
    "\n",
    "tree = create_tree(data, list(data.columns[:-1]))"
   ],
   "metadata": {
    "collapsed": false,
    "pycharm": {
     "name": "#%%\n"
    }
   }
  },
  {
   "cell_type": "markdown",
   "source": [
    "### Print tree"
   ],
   "metadata": {
    "collapsed": false,
    "pycharm": {
     "name": "#%% md\n"
    }
   }
  },
  {
   "cell_type": "code",
   "execution_count": 31,
   "outputs": [
    {
     "name": "stdout",
     "output_type": "stream",
     "text": [
      "                ┌1(Pclass)┐\n",
      "                │         └1\n",
      "                ├2(Pclass)┐\n",
      "                │         └1\n",
      "     ┌(age < 23)┤\n",
      "     │          │         ┌male(Sex)┐\n",
      "     │          │         │         └0\n",
      "     │          └3(Pclass)┤\n",
      "     │                    │           ┌0(SibSp)┐\n",
      "     │                    │           │        └1\n",
      "     │                    │           ├2(SibSp)┐\n",
      "     │                    │           │        └0\n",
      "     │                    │           ├3(SibSp)┐\n",
      "     │                    │           │        └0\n",
      "     │                    └female(Sex)┤\n",
      "     │                                │        ┌0(Parch)┐\n",
      "     │                                │        │        └0\n",
      "     │                                ├1(SibSp)┤\n",
      "     │                                │        └1(Parch)┐\n",
      "     │                                │                 └1\n",
      "     │                                ├5(SibSp)┐\n",
      "     │                                │        └0\n",
      "     │                                └4(SibSp)┐\n",
      "     │                                         └1\n",
      " Toot┤\n",
      "     │                       ┌0(SibSp)┐\n",
      "     │                       │        └1\n",
      "     │                       ├3(SibSp)┐\n",
      "     │                       │        └1\n",
      "     │           ┌female(Sex)┤\n",
      "     │           │           │        ┌1(Pclass)┐\n",
      "     │           │           │        │         └1\n",
      "     │           │           │        ├2(Pclass)┐\n",
      "     │           │           │        │         └1\n",
      "     │           │           └1(SibSp)┤\n",
      "     │           │                    │         ┌0(Parch)┐\n",
      "     │           │                    │         │        └0\n",
      "     │           │                    └3(Pclass)┤\n",
      "     │           │                              └5(Parch)┐\n",
      "     │           │                                       └1\n",
      "     └(age >= 23)┤\n",
      "                 │         ┌2(Parch)┐\n",
      "                 │         │        └0\n",
      "                 │         ├5(Parch)┐\n",
      "                 │         │        └0\n",
      "                 │         │        ┌3(Pclass)┐\n",
      "                 │         │        │         └1\n",
      "                 │         ├1(Parch)┤\n",
      "                 │         │        │         ┌55(PassengerId)┐\n",
      "                 │         │        │         │               └0\n",
      "                 │         │        └1(Pclass)┤\n",
      "                 │         │                  └98(PassengerId)┐\n",
      "                 │         │                                  └1\n",
      "                 └male(Sex)┤\n",
      "                           │        ┌2(Pclass)┐\n",
      "                           │        │         └0\n",
      "                           │        ├3(Pclass)┐\n",
      "                           │        │         └0\n",
      "                           └0(Parch)┤\n",
      "                                    │         ┌1(SibSp)┐\n",
      "                                    │         │        └0\n",
      "                                    └1(Pclass)┤\n",
      "                                              │        ┌7(PassengerId)┐\n",
      "                                              │        │              └0\n",
      "                                              │        ├24(PassengerId)┐\n",
      "                                              │        │               └1\n",
      "                                              └0(SibSp)┤\n",
      "                                                       ├97(PassengerId)┐\n",
      "                                                       │               └0\n",
      "                                                       ├65(PassengerId)┐\n",
      "                                                       │               └0\n",
      "                                                       └31(PassengerId)┐\n",
      "                                                                       └1\n"
     ]
    }
   ],
   "source": [
    "import pptree as ppt\n",
    "\n",
    "def bfs(tree: {}, this_node: ppt.Node):\n",
    "    if not isinstance(tree, dict):\n",
    "        return ppt.Node(tree, this_node)\n",
    "    for key in tree.keys():\n",
    "        next_node = ppt.Node(key, this_node)\n",
    "        bfs(tree[key], next_node)\n",
    "    return this_node\n",
    "\n",
    "ppt.print_tree(bfs(tree, ppt.Node('Toot', None)))"
   ],
   "metadata": {
    "collapsed": false,
    "pycharm": {
     "name": "#%%\n"
    }
   }
  },
  {
   "cell_type": "markdown",
   "source": [
    "### Age spliter"
   ],
   "metadata": {
    "collapsed": false,
    "pycharm": {
     "name": "#%% md\n"
    }
   }
  },
  {
   "cell_type": "code",
   "execution_count": 29,
   "outputs": [],
   "source": [
    "def age_spliter(data: pd.DataFrame):\n",
    "    data_reduced = data[['Age', 'Survived']]\n",
    "    data_reduced.sort_values('Age', inplace=True)\n",
    "    divider_pos = 1\n",
    "    best_entropy = 1\n",
    "    best_pos = 1\n",
    "    while divider_pos < len(data):\n",
    "        el = (divider_pos / len(data)) * entropy(data_reduced.iloc[:divider_pos])\n",
    "        ep = (len(data) - divider_pos) / len(data) * entropy(data_reduced.iloc[divider_pos:])\n",
    "        total = el + ep\n",
    "        if total < best_entropy:\n",
    "            best_entropy = total\n",
    "            best_pos = divider_pos\n",
    "        divider_pos += 1\n",
    "    return best_entropy, best_pos"
   ],
   "metadata": {
    "collapsed": false,
    "pycharm": {
     "name": "#%%\n"
    }
   }
  }
 ],
 "metadata": {
  "kernelspec": {
   "display_name": "Python 3",
   "language": "python",
   "name": "python3"
  },
  "language_info": {
   "codemirror_mode": {
    "name": "ipython",
    "version": 2
   },
   "file_extension": ".py",
   "mimetype": "text/x-python",
   "name": "python",
   "nbconvert_exporter": "python",
   "pygments_lexer": "ipython2",
   "version": "2.7.6"
  }
 },
 "nbformat": 4,
 "nbformat_minor": 0
}